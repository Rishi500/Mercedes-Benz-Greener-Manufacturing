{
  "cells": [
    {
      "metadata": {
        "_uuid": "f3f55593a945e349670bc810a5289c11525de366"
      },
      "cell_type": "markdown",
      "source": "**Importing the Libraries**"
    },
    {
      "metadata": {
        "_uuid": "8f2839f25d086af736a60e9eeb907d3b93b6e0e5",
        "_cell_guid": "b1076dfc-b9ad-4769-8c92-a6c4dae69d19",
        "trusted": true
      },
      "cell_type": "code",
      "source": "%load_ext autoreload\n%autoreload 2\n%matplotlib inline\n\nfrom fastai.structured import *\nfrom fastai.imports import *\n\nfrom pandas_summary import DataFrameSummary\nfrom sklearn.ensemble import RandomForestRegressor, RandomForestClassifier\nfrom IPython.display import display\nfrom sklearn import metrics",
      "execution_count": 1,
      "outputs": []
    },
    {
      "metadata": {
        "_uuid": "357d519445b0ad29216836b24c4fadff3ef28ba6"
      },
      "cell_type": "markdown",
      "source": "**Reading the Dataset**"
    },
    {
      "metadata": {
        "trusted": true,
        "_uuid": "92bbcf99354349454970c6b660fa4a12cc061f09"
      },
      "cell_type": "code",
      "source": "df_raw = pd.read_csv('../input/train.csv')\ndf_raw.head()",
      "execution_count": 2,
      "outputs": [
        {
          "output_type": "execute_result",
          "execution_count": 2,
          "data": {
            "text/plain": "   ID       y  X0 X1  X2 X3 X4  ...  X378 X379 X380  X382  X383  X384  X385\n0   0  130.81   k  v  at  a  d  ...     0    0    0     0     0     0     0\n1   6   88.53   k  t  av  e  d  ...     0    0    0     0     0     0     0\n2   7   76.26  az  w   n  c  d  ...     0    0    0     1     0     0     0\n3   9   80.62  az  t   n  f  d  ...     0    0    0     0     0     0     0\n4  13   78.02  az  v   n  f  d  ...     0    0    0     0     0     0     0\n\n[5 rows x 378 columns]",
            "text/html": "<div>\n<style scoped>\n    .dataframe tbody tr th:only-of-type {\n        vertical-align: middle;\n    }\n\n    .dataframe tbody tr th {\n        vertical-align: top;\n    }\n\n    .dataframe thead th {\n        text-align: right;\n    }\n</style>\n<table border=\"1\" class=\"dataframe\">\n  <thead>\n    <tr style=\"text-align: right;\">\n      <th></th>\n      <th>ID</th>\n      <th>y</th>\n      <th>X0</th>\n      <th>X1</th>\n      <th>X2</th>\n      <th>X3</th>\n      <th>X4</th>\n      <th>X5</th>\n      <th>X6</th>\n      <th>X8</th>\n      <th>X10</th>\n      <th>X11</th>\n      <th>X12</th>\n      <th>X13</th>\n      <th>X14</th>\n      <th>X15</th>\n      <th>X16</th>\n      <th>X17</th>\n      <th>X18</th>\n      <th>X19</th>\n      <th>X20</th>\n      <th>X21</th>\n      <th>X22</th>\n      <th>X23</th>\n      <th>X24</th>\n      <th>X26</th>\n      <th>X27</th>\n      <th>X28</th>\n      <th>X29</th>\n      <th>X30</th>\n      <th>X31</th>\n      <th>X32</th>\n      <th>X33</th>\n      <th>X34</th>\n      <th>X35</th>\n      <th>X36</th>\n      <th>X37</th>\n      <th>X38</th>\n      <th>X39</th>\n      <th>X40</th>\n      <th>...</th>\n      <th>X345</th>\n      <th>X346</th>\n      <th>X347</th>\n      <th>X348</th>\n      <th>X349</th>\n      <th>X350</th>\n      <th>X351</th>\n      <th>X352</th>\n      <th>X353</th>\n      <th>X354</th>\n      <th>X355</th>\n      <th>X356</th>\n      <th>X357</th>\n      <th>X358</th>\n      <th>X359</th>\n      <th>X360</th>\n      <th>X361</th>\n      <th>X362</th>\n      <th>X363</th>\n      <th>X364</th>\n      <th>X365</th>\n      <th>X366</th>\n      <th>X367</th>\n      <th>X368</th>\n      <th>X369</th>\n      <th>X370</th>\n      <th>X371</th>\n      <th>X372</th>\n      <th>X373</th>\n      <th>X374</th>\n      <th>X375</th>\n      <th>X376</th>\n      <th>X377</th>\n      <th>X378</th>\n      <th>X379</th>\n      <th>X380</th>\n      <th>X382</th>\n      <th>X383</th>\n      <th>X384</th>\n      <th>X385</th>\n    </tr>\n  </thead>\n  <tbody>\n    <tr>\n      <th>0</th>\n      <td>0</td>\n      <td>130.81</td>\n      <td>k</td>\n      <td>v</td>\n      <td>at</td>\n      <td>a</td>\n      <td>d</td>\n      <td>u</td>\n      <td>j</td>\n      <td>o</td>\n      <td>0</td>\n      <td>0</td>\n      <td>0</td>\n      <td>1</td>\n      <td>0</td>\n      <td>0</td>\n      <td>0</td>\n      <td>0</td>\n      <td>1</td>\n      <td>0</td>\n      <td>0</td>\n      <td>1</td>\n      <td>0</td>\n      <td>0</td>\n      <td>0</td>\n      <td>0</td>\n      <td>0</td>\n      <td>0</td>\n      <td>0</td>\n      <td>0</td>\n      <td>1</td>\n      <td>0</td>\n      <td>0</td>\n      <td>0</td>\n      <td>1</td>\n      <td>0</td>\n      <td>1</td>\n      <td>0</td>\n      <td>0</td>\n      <td>0</td>\n      <td>...</td>\n      <td>0</td>\n      <td>0</td>\n      <td>0</td>\n      <td>0</td>\n      <td>0</td>\n      <td>0</td>\n      <td>0</td>\n      <td>0</td>\n      <td>0</td>\n      <td>1</td>\n      <td>0</td>\n      <td>0</td>\n      <td>0</td>\n      <td>0</td>\n      <td>0</td>\n      <td>0</td>\n      <td>1</td>\n      <td>0</td>\n      <td>0</td>\n      <td>0</td>\n      <td>0</td>\n      <td>0</td>\n      <td>0</td>\n      <td>0</td>\n      <td>0</td>\n      <td>0</td>\n      <td>0</td>\n      <td>0</td>\n      <td>0</td>\n      <td>0</td>\n      <td>0</td>\n      <td>0</td>\n      <td>1</td>\n      <td>0</td>\n      <td>0</td>\n      <td>0</td>\n      <td>0</td>\n      <td>0</td>\n      <td>0</td>\n      <td>0</td>\n    </tr>\n    <tr>\n      <th>1</th>\n      <td>6</td>\n      <td>88.53</td>\n      <td>k</td>\n      <td>t</td>\n      <td>av</td>\n      <td>e</td>\n      <td>d</td>\n      <td>y</td>\n      <td>l</td>\n      <td>o</td>\n      <td>0</td>\n      <td>0</td>\n      <td>0</td>\n      <td>0</td>\n      <td>0</td>\n      <td>0</td>\n      <td>0</td>\n      <td>0</td>\n      <td>1</td>\n      <td>0</td>\n      <td>0</td>\n      <td>0</td>\n      <td>0</td>\n      <td>0</td>\n      <td>0</td>\n      <td>0</td>\n      <td>1</td>\n      <td>0</td>\n      <td>0</td>\n      <td>0</td>\n      <td>1</td>\n      <td>0</td>\n      <td>0</td>\n      <td>0</td>\n      <td>1</td>\n      <td>0</td>\n      <td>1</td>\n      <td>0</td>\n      <td>0</td>\n      <td>0</td>\n      <td>...</td>\n      <td>0</td>\n      <td>0</td>\n      <td>0</td>\n      <td>1</td>\n      <td>0</td>\n      <td>0</td>\n      <td>0</td>\n      <td>0</td>\n      <td>0</td>\n      <td>0</td>\n      <td>0</td>\n      <td>0</td>\n      <td>0</td>\n      <td>0</td>\n      <td>0</td>\n      <td>0</td>\n      <td>1</td>\n      <td>0</td>\n      <td>1</td>\n      <td>0</td>\n      <td>0</td>\n      <td>0</td>\n      <td>0</td>\n      <td>0</td>\n      <td>0</td>\n      <td>0</td>\n      <td>0</td>\n      <td>0</td>\n      <td>0</td>\n      <td>0</td>\n      <td>1</td>\n      <td>0</td>\n      <td>0</td>\n      <td>0</td>\n      <td>0</td>\n      <td>0</td>\n      <td>0</td>\n      <td>0</td>\n      <td>0</td>\n      <td>0</td>\n    </tr>\n    <tr>\n      <th>2</th>\n      <td>7</td>\n      <td>76.26</td>\n      <td>az</td>\n      <td>w</td>\n      <td>n</td>\n      <td>c</td>\n      <td>d</td>\n      <td>x</td>\n      <td>j</td>\n      <td>x</td>\n      <td>0</td>\n      <td>0</td>\n      <td>0</td>\n      <td>0</td>\n      <td>0</td>\n      <td>0</td>\n      <td>0</td>\n      <td>1</td>\n      <td>0</td>\n      <td>0</td>\n      <td>0</td>\n      <td>0</td>\n      <td>0</td>\n      <td>0</td>\n      <td>0</td>\n      <td>0</td>\n      <td>1</td>\n      <td>1</td>\n      <td>1</td>\n      <td>0</td>\n      <td>1</td>\n      <td>0</td>\n      <td>0</td>\n      <td>0</td>\n      <td>1</td>\n      <td>0</td>\n      <td>1</td>\n      <td>0</td>\n      <td>0</td>\n      <td>0</td>\n      <td>...</td>\n      <td>0</td>\n      <td>0</td>\n      <td>0</td>\n      <td>1</td>\n      <td>0</td>\n      <td>1</td>\n      <td>0</td>\n      <td>0</td>\n      <td>0</td>\n      <td>1</td>\n      <td>0</td>\n      <td>0</td>\n      <td>0</td>\n      <td>1</td>\n      <td>0</td>\n      <td>0</td>\n      <td>1</td>\n      <td>0</td>\n      <td>1</td>\n      <td>0</td>\n      <td>0</td>\n      <td>0</td>\n      <td>0</td>\n      <td>0</td>\n      <td>0</td>\n      <td>0</td>\n      <td>0</td>\n      <td>0</td>\n      <td>0</td>\n      <td>0</td>\n      <td>0</td>\n      <td>0</td>\n      <td>0</td>\n      <td>0</td>\n      <td>0</td>\n      <td>0</td>\n      <td>1</td>\n      <td>0</td>\n      <td>0</td>\n      <td>0</td>\n    </tr>\n    <tr>\n      <th>3</th>\n      <td>9</td>\n      <td>80.62</td>\n      <td>az</td>\n      <td>t</td>\n      <td>n</td>\n      <td>f</td>\n      <td>d</td>\n      <td>x</td>\n      <td>l</td>\n      <td>e</td>\n      <td>0</td>\n      <td>0</td>\n      <td>0</td>\n      <td>0</td>\n      <td>0</td>\n      <td>0</td>\n      <td>0</td>\n      <td>0</td>\n      <td>0</td>\n      <td>0</td>\n      <td>0</td>\n      <td>0</td>\n      <td>0</td>\n      <td>0</td>\n      <td>0</td>\n      <td>0</td>\n      <td>1</td>\n      <td>1</td>\n      <td>1</td>\n      <td>0</td>\n      <td>1</td>\n      <td>0</td>\n      <td>0</td>\n      <td>0</td>\n      <td>1</td>\n      <td>0</td>\n      <td>1</td>\n      <td>0</td>\n      <td>0</td>\n      <td>0</td>\n      <td>...</td>\n      <td>0</td>\n      <td>0</td>\n      <td>0</td>\n      <td>1</td>\n      <td>0</td>\n      <td>1</td>\n      <td>0</td>\n      <td>0</td>\n      <td>0</td>\n      <td>0</td>\n      <td>0</td>\n      <td>0</td>\n      <td>0</td>\n      <td>1</td>\n      <td>0</td>\n      <td>0</td>\n      <td>1</td>\n      <td>0</td>\n      <td>1</td>\n      <td>0</td>\n      <td>0</td>\n      <td>0</td>\n      <td>0</td>\n      <td>0</td>\n      <td>0</td>\n      <td>0</td>\n      <td>0</td>\n      <td>1</td>\n      <td>0</td>\n      <td>0</td>\n      <td>0</td>\n      <td>0</td>\n      <td>0</td>\n      <td>0</td>\n      <td>0</td>\n      <td>0</td>\n      <td>0</td>\n      <td>0</td>\n      <td>0</td>\n      <td>0</td>\n    </tr>\n    <tr>\n      <th>4</th>\n      <td>13</td>\n      <td>78.02</td>\n      <td>az</td>\n      <td>v</td>\n      <td>n</td>\n      <td>f</td>\n      <td>d</td>\n      <td>h</td>\n      <td>d</td>\n      <td>n</td>\n      <td>0</td>\n      <td>0</td>\n      <td>0</td>\n      <td>0</td>\n      <td>0</td>\n      <td>0</td>\n      <td>0</td>\n      <td>0</td>\n      <td>0</td>\n      <td>0</td>\n      <td>0</td>\n      <td>0</td>\n      <td>0</td>\n      <td>0</td>\n      <td>0</td>\n      <td>0</td>\n      <td>1</td>\n      <td>1</td>\n      <td>1</td>\n      <td>0</td>\n      <td>1</td>\n      <td>0</td>\n      <td>0</td>\n      <td>0</td>\n      <td>1</td>\n      <td>0</td>\n      <td>1</td>\n      <td>0</td>\n      <td>0</td>\n      <td>0</td>\n      <td>...</td>\n      <td>0</td>\n      <td>0</td>\n      <td>0</td>\n      <td>1</td>\n      <td>0</td>\n      <td>1</td>\n      <td>0</td>\n      <td>0</td>\n      <td>0</td>\n      <td>0</td>\n      <td>0</td>\n      <td>0</td>\n      <td>0</td>\n      <td>1</td>\n      <td>0</td>\n      <td>0</td>\n      <td>1</td>\n      <td>0</td>\n      <td>1</td>\n      <td>0</td>\n      <td>0</td>\n      <td>0</td>\n      <td>0</td>\n      <td>0</td>\n      <td>0</td>\n      <td>0</td>\n      <td>1</td>\n      <td>0</td>\n      <td>0</td>\n      <td>0</td>\n      <td>0</td>\n      <td>0</td>\n      <td>0</td>\n      <td>0</td>\n      <td>0</td>\n      <td>0</td>\n      <td>0</td>\n      <td>0</td>\n      <td>0</td>\n      <td>0</td>\n    </tr>\n  </tbody>\n</table>\n</div>"
          },
          "metadata": {}
        }
      ]
    },
    {
      "metadata": {
        "_uuid": "b206554f50437e1067cca3c225e4edb879a3033e"
      },
      "cell_type": "markdown",
      "source": "**Competition Details:**\n*In this competition, Daimler is challenging Kagglers to tackle the curse of dimensionality and reduce the time that cars spend on the test bench. Competitors will work with a dataset representing different permutations of Mercedes-Benz car features to predict the time it takes to pass testing. Winning algorithms will contribute to speedier testing, resulting in lower carbon dioxide emissions without reducing Daimler’s standards.*"
    },
    {
      "metadata": {
        "trusted": true,
        "_uuid": "2c854c7d20917d440d84a99b33417403b9855104"
      },
      "cell_type": "code",
      "source": "train_cats(df_raw)",
      "execution_count": 3,
      "outputs": []
    },
    {
      "metadata": {
        "_uuid": "5c9e58fb7acab78f3720940ab27e8a6bbe6d80ce"
      },
      "cell_type": "markdown",
      "source": "*Using the : **train_cats(dataframe)** to Change any columns of strings in a panda's dataframe to a column of categorical values. This applies the changes inplace.*"
    },
    {
      "metadata": {
        "_uuid": "db0f91ff057132493db6b5a0b3d13f9e11774f22"
      },
      "cell_type": "markdown",
      "source": "*Checking for Missing Values*"
    },
    {
      "metadata": {
        "trusted": true,
        "_uuid": "2a790bc7f9219c1f0b40e1a6536e0f84d282e686"
      },
      "cell_type": "code",
      "source": "(df_raw.isnull().sum().sort_index()/len(df_raw)).sum()",
      "execution_count": 4,
      "outputs": [
        {
          "output_type": "execute_result",
          "execution_count": 4,
          "data": {
            "text/plain": "0.0"
          },
          "metadata": {}
        }
      ]
    },
    {
      "metadata": {
        "_uuid": "4ab4f28779bdafb6d1858862cee2009d0d759267"
      },
      "cell_type": "markdown",
      "source": "**No missing values in the dataset**"
    },
    {
      "metadata": {
        "trusted": true,
        "_uuid": "f7af22033ac648687114a683fc3e7e7b1c517e6b"
      },
      "cell_type": "code",
      "source": "df, y, nas = proc_df(df_raw, 'y')",
      "execution_count": 6,
      "outputs": []
    },
    {
      "metadata": {
        "_uuid": "7eb2730f55bd635dd649f955765ab5a4397901f0"
      },
      "cell_type": "markdown",
      "source": "*Now we have separated **y** column from df_raw and returned dataframe into df, and **y** (Target Variable) into y. Along with handling categorical data.*"
    },
    {
      "metadata": {
        "trusted": true,
        "_uuid": "660be032edba6e637a680f316e70361ec6c480db"
      },
      "cell_type": "code",
      "source": "df.head()",
      "execution_count": 7,
      "outputs": [
        {
          "output_type": "execute_result",
          "execution_count": 7,
          "data": {
            "text/plain": "   ID  X0  X1  X2  X3  X4  X5  ...   X378  X379  X380  X382  X383  X384  X385\n0   0  33  24  18   1   4  25  ...      0     0     0     0     0     0     0\n1   6  33  22  20   5   4  29  ...      0     0     0     0     0     0     0\n2   7  21  25  35   3   4  28  ...      0     0     0     1     0     0     0\n3   9  21  22  35   6   4  28  ...      0     0     0     0     0     0     0\n4  13  21  24  35   6   4  13  ...      0     0     0     0     0     0     0\n\n[5 rows x 377 columns]",
            "text/html": "<div>\n<style scoped>\n    .dataframe tbody tr th:only-of-type {\n        vertical-align: middle;\n    }\n\n    .dataframe tbody tr th {\n        vertical-align: top;\n    }\n\n    .dataframe thead th {\n        text-align: right;\n    }\n</style>\n<table border=\"1\" class=\"dataframe\">\n  <thead>\n    <tr style=\"text-align: right;\">\n      <th></th>\n      <th>ID</th>\n      <th>X0</th>\n      <th>X1</th>\n      <th>X2</th>\n      <th>X3</th>\n      <th>X4</th>\n      <th>X5</th>\n      <th>X6</th>\n      <th>X8</th>\n      <th>X10</th>\n      <th>X11</th>\n      <th>X12</th>\n      <th>X13</th>\n      <th>X14</th>\n      <th>X15</th>\n      <th>X16</th>\n      <th>X17</th>\n      <th>X18</th>\n      <th>X19</th>\n      <th>X20</th>\n      <th>X21</th>\n      <th>X22</th>\n      <th>X23</th>\n      <th>X24</th>\n      <th>X26</th>\n      <th>X27</th>\n      <th>X28</th>\n      <th>X29</th>\n      <th>X30</th>\n      <th>X31</th>\n      <th>X32</th>\n      <th>X33</th>\n      <th>X34</th>\n      <th>X35</th>\n      <th>X36</th>\n      <th>X37</th>\n      <th>X38</th>\n      <th>X39</th>\n      <th>X40</th>\n      <th>X41</th>\n      <th>...</th>\n      <th>X345</th>\n      <th>X346</th>\n      <th>X347</th>\n      <th>X348</th>\n      <th>X349</th>\n      <th>X350</th>\n      <th>X351</th>\n      <th>X352</th>\n      <th>X353</th>\n      <th>X354</th>\n      <th>X355</th>\n      <th>X356</th>\n      <th>X357</th>\n      <th>X358</th>\n      <th>X359</th>\n      <th>X360</th>\n      <th>X361</th>\n      <th>X362</th>\n      <th>X363</th>\n      <th>X364</th>\n      <th>X365</th>\n      <th>X366</th>\n      <th>X367</th>\n      <th>X368</th>\n      <th>X369</th>\n      <th>X370</th>\n      <th>X371</th>\n      <th>X372</th>\n      <th>X373</th>\n      <th>X374</th>\n      <th>X375</th>\n      <th>X376</th>\n      <th>X377</th>\n      <th>X378</th>\n      <th>X379</th>\n      <th>X380</th>\n      <th>X382</th>\n      <th>X383</th>\n      <th>X384</th>\n      <th>X385</th>\n    </tr>\n  </thead>\n  <tbody>\n    <tr>\n      <th>0</th>\n      <td>0</td>\n      <td>33</td>\n      <td>24</td>\n      <td>18</td>\n      <td>1</td>\n      <td>4</td>\n      <td>25</td>\n      <td>10</td>\n      <td>15</td>\n      <td>0</td>\n      <td>0</td>\n      <td>0</td>\n      <td>1</td>\n      <td>0</td>\n      <td>0</td>\n      <td>0</td>\n      <td>0</td>\n      <td>1</td>\n      <td>0</td>\n      <td>0</td>\n      <td>1</td>\n      <td>0</td>\n      <td>0</td>\n      <td>0</td>\n      <td>0</td>\n      <td>0</td>\n      <td>0</td>\n      <td>0</td>\n      <td>0</td>\n      <td>1</td>\n      <td>0</td>\n      <td>0</td>\n      <td>0</td>\n      <td>1</td>\n      <td>0</td>\n      <td>1</td>\n      <td>0</td>\n      <td>0</td>\n      <td>0</td>\n      <td>0</td>\n      <td>...</td>\n      <td>0</td>\n      <td>0</td>\n      <td>0</td>\n      <td>0</td>\n      <td>0</td>\n      <td>0</td>\n      <td>0</td>\n      <td>0</td>\n      <td>0</td>\n      <td>1</td>\n      <td>0</td>\n      <td>0</td>\n      <td>0</td>\n      <td>0</td>\n      <td>0</td>\n      <td>0</td>\n      <td>1</td>\n      <td>0</td>\n      <td>0</td>\n      <td>0</td>\n      <td>0</td>\n      <td>0</td>\n      <td>0</td>\n      <td>0</td>\n      <td>0</td>\n      <td>0</td>\n      <td>0</td>\n      <td>0</td>\n      <td>0</td>\n      <td>0</td>\n      <td>0</td>\n      <td>0</td>\n      <td>1</td>\n      <td>0</td>\n      <td>0</td>\n      <td>0</td>\n      <td>0</td>\n      <td>0</td>\n      <td>0</td>\n      <td>0</td>\n    </tr>\n    <tr>\n      <th>1</th>\n      <td>6</td>\n      <td>33</td>\n      <td>22</td>\n      <td>20</td>\n      <td>5</td>\n      <td>4</td>\n      <td>29</td>\n      <td>12</td>\n      <td>15</td>\n      <td>0</td>\n      <td>0</td>\n      <td>0</td>\n      <td>0</td>\n      <td>0</td>\n      <td>0</td>\n      <td>0</td>\n      <td>0</td>\n      <td>1</td>\n      <td>0</td>\n      <td>0</td>\n      <td>0</td>\n      <td>0</td>\n      <td>0</td>\n      <td>0</td>\n      <td>0</td>\n      <td>1</td>\n      <td>0</td>\n      <td>0</td>\n      <td>0</td>\n      <td>1</td>\n      <td>0</td>\n      <td>0</td>\n      <td>0</td>\n      <td>1</td>\n      <td>0</td>\n      <td>1</td>\n      <td>0</td>\n      <td>0</td>\n      <td>0</td>\n      <td>0</td>\n      <td>...</td>\n      <td>0</td>\n      <td>0</td>\n      <td>0</td>\n      <td>1</td>\n      <td>0</td>\n      <td>0</td>\n      <td>0</td>\n      <td>0</td>\n      <td>0</td>\n      <td>0</td>\n      <td>0</td>\n      <td>0</td>\n      <td>0</td>\n      <td>0</td>\n      <td>0</td>\n      <td>0</td>\n      <td>1</td>\n      <td>0</td>\n      <td>1</td>\n      <td>0</td>\n      <td>0</td>\n      <td>0</td>\n      <td>0</td>\n      <td>0</td>\n      <td>0</td>\n      <td>0</td>\n      <td>0</td>\n      <td>0</td>\n      <td>0</td>\n      <td>0</td>\n      <td>1</td>\n      <td>0</td>\n      <td>0</td>\n      <td>0</td>\n      <td>0</td>\n      <td>0</td>\n      <td>0</td>\n      <td>0</td>\n      <td>0</td>\n      <td>0</td>\n    </tr>\n    <tr>\n      <th>2</th>\n      <td>7</td>\n      <td>21</td>\n      <td>25</td>\n      <td>35</td>\n      <td>3</td>\n      <td>4</td>\n      <td>28</td>\n      <td>10</td>\n      <td>24</td>\n      <td>0</td>\n      <td>0</td>\n      <td>0</td>\n      <td>0</td>\n      <td>0</td>\n      <td>0</td>\n      <td>0</td>\n      <td>1</td>\n      <td>0</td>\n      <td>0</td>\n      <td>0</td>\n      <td>0</td>\n      <td>0</td>\n      <td>0</td>\n      <td>0</td>\n      <td>0</td>\n      <td>1</td>\n      <td>1</td>\n      <td>1</td>\n      <td>0</td>\n      <td>1</td>\n      <td>0</td>\n      <td>0</td>\n      <td>0</td>\n      <td>1</td>\n      <td>0</td>\n      <td>1</td>\n      <td>0</td>\n      <td>0</td>\n      <td>0</td>\n      <td>0</td>\n      <td>...</td>\n      <td>0</td>\n      <td>0</td>\n      <td>0</td>\n      <td>1</td>\n      <td>0</td>\n      <td>1</td>\n      <td>0</td>\n      <td>0</td>\n      <td>0</td>\n      <td>1</td>\n      <td>0</td>\n      <td>0</td>\n      <td>0</td>\n      <td>1</td>\n      <td>0</td>\n      <td>0</td>\n      <td>1</td>\n      <td>0</td>\n      <td>1</td>\n      <td>0</td>\n      <td>0</td>\n      <td>0</td>\n      <td>0</td>\n      <td>0</td>\n      <td>0</td>\n      <td>0</td>\n      <td>0</td>\n      <td>0</td>\n      <td>0</td>\n      <td>0</td>\n      <td>0</td>\n      <td>0</td>\n      <td>0</td>\n      <td>0</td>\n      <td>0</td>\n      <td>0</td>\n      <td>1</td>\n      <td>0</td>\n      <td>0</td>\n      <td>0</td>\n    </tr>\n    <tr>\n      <th>3</th>\n      <td>9</td>\n      <td>21</td>\n      <td>22</td>\n      <td>35</td>\n      <td>6</td>\n      <td>4</td>\n      <td>28</td>\n      <td>12</td>\n      <td>5</td>\n      <td>0</td>\n      <td>0</td>\n      <td>0</td>\n      <td>0</td>\n      <td>0</td>\n      <td>0</td>\n      <td>0</td>\n      <td>0</td>\n      <td>0</td>\n      <td>0</td>\n      <td>0</td>\n      <td>0</td>\n      <td>0</td>\n      <td>0</td>\n      <td>0</td>\n      <td>0</td>\n      <td>1</td>\n      <td>1</td>\n      <td>1</td>\n      <td>0</td>\n      <td>1</td>\n      <td>0</td>\n      <td>0</td>\n      <td>0</td>\n      <td>1</td>\n      <td>0</td>\n      <td>1</td>\n      <td>0</td>\n      <td>0</td>\n      <td>0</td>\n      <td>0</td>\n      <td>...</td>\n      <td>0</td>\n      <td>0</td>\n      <td>0</td>\n      <td>1</td>\n      <td>0</td>\n      <td>1</td>\n      <td>0</td>\n      <td>0</td>\n      <td>0</td>\n      <td>0</td>\n      <td>0</td>\n      <td>0</td>\n      <td>0</td>\n      <td>1</td>\n      <td>0</td>\n      <td>0</td>\n      <td>1</td>\n      <td>0</td>\n      <td>1</td>\n      <td>0</td>\n      <td>0</td>\n      <td>0</td>\n      <td>0</td>\n      <td>0</td>\n      <td>0</td>\n      <td>0</td>\n      <td>0</td>\n      <td>1</td>\n      <td>0</td>\n      <td>0</td>\n      <td>0</td>\n      <td>0</td>\n      <td>0</td>\n      <td>0</td>\n      <td>0</td>\n      <td>0</td>\n      <td>0</td>\n      <td>0</td>\n      <td>0</td>\n      <td>0</td>\n    </tr>\n    <tr>\n      <th>4</th>\n      <td>13</td>\n      <td>21</td>\n      <td>24</td>\n      <td>35</td>\n      <td>6</td>\n      <td>4</td>\n      <td>13</td>\n      <td>4</td>\n      <td>14</td>\n      <td>0</td>\n      <td>0</td>\n      <td>0</td>\n      <td>0</td>\n      <td>0</td>\n      <td>0</td>\n      <td>0</td>\n      <td>0</td>\n      <td>0</td>\n      <td>0</td>\n      <td>0</td>\n      <td>0</td>\n      <td>0</td>\n      <td>0</td>\n      <td>0</td>\n      <td>0</td>\n      <td>1</td>\n      <td>1</td>\n      <td>1</td>\n      <td>0</td>\n      <td>1</td>\n      <td>0</td>\n      <td>0</td>\n      <td>0</td>\n      <td>1</td>\n      <td>0</td>\n      <td>1</td>\n      <td>0</td>\n      <td>0</td>\n      <td>0</td>\n      <td>0</td>\n      <td>...</td>\n      <td>0</td>\n      <td>0</td>\n      <td>0</td>\n      <td>1</td>\n      <td>0</td>\n      <td>1</td>\n      <td>0</td>\n      <td>0</td>\n      <td>0</td>\n      <td>0</td>\n      <td>0</td>\n      <td>0</td>\n      <td>0</td>\n      <td>1</td>\n      <td>0</td>\n      <td>0</td>\n      <td>1</td>\n      <td>0</td>\n      <td>1</td>\n      <td>0</td>\n      <td>0</td>\n      <td>0</td>\n      <td>0</td>\n      <td>0</td>\n      <td>0</td>\n      <td>0</td>\n      <td>1</td>\n      <td>0</td>\n      <td>0</td>\n      <td>0</td>\n      <td>0</td>\n      <td>0</td>\n      <td>0</td>\n      <td>0</td>\n      <td>0</td>\n      <td>0</td>\n      <td>0</td>\n      <td>0</td>\n      <td>0</td>\n      <td>0</td>\n    </tr>\n  </tbody>\n</table>\n</div>"
          },
          "metadata": {}
        }
      ]
    },
    {
      "metadata": {
        "_uuid": "e006dfbc4ce6f7336598afe4e8d0e5c2c4dbe95f"
      },
      "cell_type": "markdown",
      "source": "**Lets Build our First Model using Random Forest with 10 estimators**"
    },
    {
      "metadata": {
        "trusted": true,
        "_uuid": "a2b6ac9a8ecfa302e780bfa0009adb6a205776df"
      },
      "cell_type": "code",
      "source": "m = RandomForestRegressor(n_jobs=-1)\nm.fit(df, y)\nm.score(df,y)",
      "execution_count": 8,
      "outputs": [
        {
          "output_type": "stream",
          "text": "/opt/conda/lib/python3.6/site-packages/sklearn/ensemble/forest.py:248: FutureWarning: The default value of n_estimators will change from 10 in version 0.20 to 100 in 0.22.\n  \"10 in version 0.20 to 100 in 0.22.\", FutureWarning)\n",
          "name": "stderr"
        },
        {
          "output_type": "execute_result",
          "execution_count": 8,
          "data": {
            "text/plain": "0.9144472140467663"
          },
          "metadata": {}
        }
      ]
    },
    {
      "metadata": {
        "_uuid": "1f1d8f4e31e0ec8238d58407dca3bc46bd2cc00f"
      },
      "cell_type": "markdown",
      "source": "*Lets split the df and y into train sets and validation sets to check whether model overfits on validation set*"
    },
    {
      "metadata": {
        "trusted": true,
        "_uuid": "1ff400ccdae6f0b135742fc705f97da55d17b938"
      },
      "cell_type": "code",
      "source": "def split_vals(a,n): return a[:n].copy(), a[n:].copy()\nn_valid = 800  # same as Kaggle's test set size\nn_trn = len(df)-n_valid\nraw_train, raw_valid = split_vals(df_raw, n_trn)\nX_train, X_valid = split_vals(df, n_trn)\ny_train, y_valid = split_vals(y, n_trn)\nX_train.shape, y_train.shape, X_valid.shape",
      "execution_count": 9,
      "outputs": [
        {
          "output_type": "execute_result",
          "execution_count": 9,
          "data": {
            "text/plain": "((3409, 377), (3409,), (800, 377))"
          },
          "metadata": {}
        }
      ]
    },
    {
      "metadata": {
        "trusted": true,
        "_uuid": "866a139282651ec7547c91350d25dc93c913cfee"
      },
      "cell_type": "code",
      "source": "df.shape",
      "execution_count": 10,
      "outputs": [
        {
          "output_type": "execute_result",
          "execution_count": 10,
          "data": {
            "text/plain": "(4209, 377)"
          },
          "metadata": {}
        }
      ]
    },
    {
      "metadata": {
        "_uuid": "de9b5db949a8834133f744665c89f97460e9db62"
      },
      "cell_type": "markdown",
      "source": "**print_score(model)**:  *Function to print r^2 score on training set and validation set*"
    },
    {
      "metadata": {
        "trusted": true,
        "_uuid": "08484f7d8917ed1d63d7426020e3ec514e23c5af"
      },
      "cell_type": "code",
      "source": "def print_score(m):\n    res = [m.score(X_train, y_train), m.score(X_valid, y_valid)]\n    if hasattr(m, 'oob_score_'): res.append(m.oob_score_)\n    print(res)",
      "execution_count": 11,
      "outputs": []
    },
    {
      "metadata": {
        "trusted": true,
        "_uuid": "7a6ded62f58004cae97134bb9c26573e3a6c33c2"
      },
      "cell_type": "code",
      "source": "set_rf_samples(2600)",
      "execution_count": 12,
      "outputs": []
    },
    {
      "metadata": {
        "_uuid": "1f03f486a9f2356fbc57e8961668e195e68b82bd"
      },
      "cell_type": "markdown",
      "source": "**Lets Tune the Hyper parameters of our Model**"
    },
    {
      "metadata": {
        "trusted": true,
        "_uuid": "da9c167d1e1092a4a25131305c810124bbaceb5d"
      },
      "cell_type": "code",
      "source": "m = RandomForestRegressor(n_estimators=100,n_jobs=-1)\n%time m.fit(X_train, y_train)\nprint_score(m)",
      "execution_count": 18,
      "outputs": [
        {
          "output_type": "stream",
          "text": "CPU times: user 12.6 s, sys: 48 ms, total: 12.6 s\nWall time: 3.26 s\n[0.8969674581490968, 0.5381520360559964]\n",
          "name": "stdout"
        }
      ]
    },
    {
      "metadata": {
        "_uuid": "306f2a1e142aed968b33bfdfb807ff71a02d91cc"
      },
      "cell_type": "markdown",
      "source": "**We got R^2 Score of:**\n**0.89 on training set**\n**0.53 on Validation set**"
    },
    {
      "metadata": {
        "trusted": true,
        "_uuid": "05659a28c0ea18899f0214e92cf96e10240fa547"
      },
      "cell_type": "code",
      "source": "set_rf_samples(2800)",
      "execution_count": 19,
      "outputs": []
    },
    {
      "metadata": {
        "trusted": true,
        "_uuid": "6b127b1627c32ea5d902b8e7606d4c138d1a91f7"
      },
      "cell_type": "code",
      "source": "m = RandomForestRegressor(n_estimators=200,n_jobs=-1,min_samples_leaf=5)\n%time m.fit(X_train, y_train)\nprint_score(m)",
      "execution_count": 20,
      "outputs": [
        {
          "output_type": "stream",
          "text": "CPU times: user 12.9 s, sys: 28 ms, total: 12.9 s\nWall time: 3.4 s\n[0.7076122180784353, 0.6112338244455511]\n",
          "name": "stdout"
        }
      ]
    },
    {
      "metadata": {
        "_uuid": "477f7c6b9a184ce6ac87700077f5e987e6dbe55a"
      },
      "cell_type": "markdown",
      "source": "**Our Model is now not too much over fitting on the validation set.**"
    },
    {
      "metadata": {
        "trusted": true,
        "_uuid": "7c40fd2f66c98c07bab83902c8dc50ba5fa86cad"
      },
      "cell_type": "code",
      "source": "m = RandomForestRegressor(n_estimators=200,n_jobs=-1,min_samples_leaf=10)\n%time m.fit(X_train, y_train)\nprint_score(m)",
      "execution_count": 22,
      "outputs": [
        {
          "output_type": "stream",
          "text": "CPU times: user 11.1 s, sys: 24 ms, total: 11.1 s\nWall time: 2.9 s\n[0.6442950811144379, 0.6333180933749857]\n",
          "name": "stdout"
        }
      ]
    },
    {
      "metadata": {
        "_uuid": "dae39eaf6febe81c6848d4dd9a36310f21fb550c"
      },
      "cell_type": "markdown",
      "source": "**Our Model is now not overfitting  much**\n"
    },
    {
      "metadata": {
        "_uuid": "eae5b88d76f15c211d498724e971fd502805982b"
      },
      "cell_type": "markdown",
      "source": "Coefficient of Determination (R^2) Score are:\n1. Training Set: 0.644*\n2. Validation Set: 0.633"
    },
    {
      "metadata": {
        "_uuid": "e5dcabd12400743398bf514edb2853ccf42f10ca"
      },
      "cell_type": "markdown",
      "source": "*Making Predictions and submission to Kaggle on the test set*"
    },
    {
      "metadata": {
        "trusted": true,
        "_uuid": "a2091e56f0b9f510d8aacd7b4a469ba60ba0f62d"
      },
      "cell_type": "code",
      "source": "df_raw_test = pd.read_csv('../input/test.csv')",
      "execution_count": 23,
      "outputs": []
    },
    {
      "metadata": {
        "trusted": true,
        "_uuid": "1bca42f013110c289badbbbd26df42bef8e695ff"
      },
      "cell_type": "code",
      "source": "df_raw_test.head()",
      "execution_count": 24,
      "outputs": [
        {
          "output_type": "execute_result",
          "execution_count": 24,
          "data": {
            "text/plain": "   ID  X0 X1  X2 X3 X4 X5  ...  X378 X379  X380  X382  X383  X384  X385\n0   1  az  v   n  f  d  t  ...     1    0     0     0     0     0     0\n1   2   t  b  ai  a  d  b  ...     0    0     0     0     0     0     0\n2   3  az  v  as  f  d  a  ...     1    0     0     0     0     0     0\n3   4  az  l   n  f  d  z  ...     1    0     0     0     0     0     0\n4   5   w  s  as  c  d  y  ...     0    0     0     0     0     0     0\n\n[5 rows x 377 columns]",
            "text/html": "<div>\n<style scoped>\n    .dataframe tbody tr th:only-of-type {\n        vertical-align: middle;\n    }\n\n    .dataframe tbody tr th {\n        vertical-align: top;\n    }\n\n    .dataframe thead th {\n        text-align: right;\n    }\n</style>\n<table border=\"1\" class=\"dataframe\">\n  <thead>\n    <tr style=\"text-align: right;\">\n      <th></th>\n      <th>ID</th>\n      <th>X0</th>\n      <th>X1</th>\n      <th>X2</th>\n      <th>X3</th>\n      <th>X4</th>\n      <th>X5</th>\n      <th>X6</th>\n      <th>X8</th>\n      <th>X10</th>\n      <th>X11</th>\n      <th>X12</th>\n      <th>X13</th>\n      <th>X14</th>\n      <th>X15</th>\n      <th>X16</th>\n      <th>X17</th>\n      <th>X18</th>\n      <th>X19</th>\n      <th>X20</th>\n      <th>X21</th>\n      <th>X22</th>\n      <th>X23</th>\n      <th>X24</th>\n      <th>X26</th>\n      <th>X27</th>\n      <th>X28</th>\n      <th>X29</th>\n      <th>X30</th>\n      <th>X31</th>\n      <th>X32</th>\n      <th>X33</th>\n      <th>X34</th>\n      <th>X35</th>\n      <th>X36</th>\n      <th>X37</th>\n      <th>X38</th>\n      <th>X39</th>\n      <th>X40</th>\n      <th>X41</th>\n      <th>...</th>\n      <th>X345</th>\n      <th>X346</th>\n      <th>X347</th>\n      <th>X348</th>\n      <th>X349</th>\n      <th>X350</th>\n      <th>X351</th>\n      <th>X352</th>\n      <th>X353</th>\n      <th>X354</th>\n      <th>X355</th>\n      <th>X356</th>\n      <th>X357</th>\n      <th>X358</th>\n      <th>X359</th>\n      <th>X360</th>\n      <th>X361</th>\n      <th>X362</th>\n      <th>X363</th>\n      <th>X364</th>\n      <th>X365</th>\n      <th>X366</th>\n      <th>X367</th>\n      <th>X368</th>\n      <th>X369</th>\n      <th>X370</th>\n      <th>X371</th>\n      <th>X372</th>\n      <th>X373</th>\n      <th>X374</th>\n      <th>X375</th>\n      <th>X376</th>\n      <th>X377</th>\n      <th>X378</th>\n      <th>X379</th>\n      <th>X380</th>\n      <th>X382</th>\n      <th>X383</th>\n      <th>X384</th>\n      <th>X385</th>\n    </tr>\n  </thead>\n  <tbody>\n    <tr>\n      <th>0</th>\n      <td>1</td>\n      <td>az</td>\n      <td>v</td>\n      <td>n</td>\n      <td>f</td>\n      <td>d</td>\n      <td>t</td>\n      <td>a</td>\n      <td>w</td>\n      <td>0</td>\n      <td>0</td>\n      <td>0</td>\n      <td>0</td>\n      <td>0</td>\n      <td>0</td>\n      <td>0</td>\n      <td>0</td>\n      <td>0</td>\n      <td>0</td>\n      <td>0</td>\n      <td>0</td>\n      <td>0</td>\n      <td>0</td>\n      <td>0</td>\n      <td>0</td>\n      <td>1</td>\n      <td>1</td>\n      <td>1</td>\n      <td>0</td>\n      <td>1</td>\n      <td>0</td>\n      <td>0</td>\n      <td>0</td>\n      <td>1</td>\n      <td>0</td>\n      <td>1</td>\n      <td>0</td>\n      <td>0</td>\n      <td>0</td>\n      <td>0</td>\n      <td>...</td>\n      <td>0</td>\n      <td>0</td>\n      <td>0</td>\n      <td>1</td>\n      <td>0</td>\n      <td>1</td>\n      <td>0</td>\n      <td>0</td>\n      <td>0</td>\n      <td>0</td>\n      <td>0</td>\n      <td>0</td>\n      <td>0</td>\n      <td>1</td>\n      <td>0</td>\n      <td>0</td>\n      <td>1</td>\n      <td>0</td>\n      <td>1</td>\n      <td>0</td>\n      <td>0</td>\n      <td>0</td>\n      <td>0</td>\n      <td>0</td>\n      <td>0</td>\n      <td>0</td>\n      <td>0</td>\n      <td>0</td>\n      <td>0</td>\n      <td>0</td>\n      <td>0</td>\n      <td>0</td>\n      <td>0</td>\n      <td>1</td>\n      <td>0</td>\n      <td>0</td>\n      <td>0</td>\n      <td>0</td>\n      <td>0</td>\n      <td>0</td>\n    </tr>\n    <tr>\n      <th>1</th>\n      <td>2</td>\n      <td>t</td>\n      <td>b</td>\n      <td>ai</td>\n      <td>a</td>\n      <td>d</td>\n      <td>b</td>\n      <td>g</td>\n      <td>y</td>\n      <td>0</td>\n      <td>0</td>\n      <td>0</td>\n      <td>0</td>\n      <td>0</td>\n      <td>0</td>\n      <td>0</td>\n      <td>0</td>\n      <td>0</td>\n      <td>1</td>\n      <td>0</td>\n      <td>0</td>\n      <td>0</td>\n      <td>0</td>\n      <td>0</td>\n      <td>0</td>\n      <td>1</td>\n      <td>0</td>\n      <td>0</td>\n      <td>0</td>\n      <td>1</td>\n      <td>0</td>\n      <td>0</td>\n      <td>0</td>\n      <td>1</td>\n      <td>0</td>\n      <td>1</td>\n      <td>0</td>\n      <td>0</td>\n      <td>0</td>\n      <td>0</td>\n      <td>...</td>\n      <td>0</td>\n      <td>0</td>\n      <td>0</td>\n      <td>1</td>\n      <td>0</td>\n      <td>0</td>\n      <td>0</td>\n      <td>0</td>\n      <td>0</td>\n      <td>0</td>\n      <td>0</td>\n      <td>1</td>\n      <td>0</td>\n      <td>0</td>\n      <td>0</td>\n      <td>0</td>\n      <td>1</td>\n      <td>1</td>\n      <td>0</td>\n      <td>0</td>\n      <td>0</td>\n      <td>0</td>\n      <td>0</td>\n      <td>1</td>\n      <td>0</td>\n      <td>0</td>\n      <td>0</td>\n      <td>0</td>\n      <td>0</td>\n      <td>0</td>\n      <td>0</td>\n      <td>0</td>\n      <td>1</td>\n      <td>0</td>\n      <td>0</td>\n      <td>0</td>\n      <td>0</td>\n      <td>0</td>\n      <td>0</td>\n      <td>0</td>\n    </tr>\n    <tr>\n      <th>2</th>\n      <td>3</td>\n      <td>az</td>\n      <td>v</td>\n      <td>as</td>\n      <td>f</td>\n      <td>d</td>\n      <td>a</td>\n      <td>j</td>\n      <td>j</td>\n      <td>0</td>\n      <td>0</td>\n      <td>0</td>\n      <td>0</td>\n      <td>1</td>\n      <td>0</td>\n      <td>0</td>\n      <td>0</td>\n      <td>0</td>\n      <td>0</td>\n      <td>0</td>\n      <td>0</td>\n      <td>0</td>\n      <td>0</td>\n      <td>0</td>\n      <td>0</td>\n      <td>1</td>\n      <td>0</td>\n      <td>1</td>\n      <td>0</td>\n      <td>1</td>\n      <td>0</td>\n      <td>0</td>\n      <td>0</td>\n      <td>1</td>\n      <td>0</td>\n      <td>1</td>\n      <td>0</td>\n      <td>0</td>\n      <td>0</td>\n      <td>0</td>\n      <td>...</td>\n      <td>0</td>\n      <td>0</td>\n      <td>0</td>\n      <td>1</td>\n      <td>0</td>\n      <td>1</td>\n      <td>0</td>\n      <td>0</td>\n      <td>0</td>\n      <td>0</td>\n      <td>0</td>\n      <td>0</td>\n      <td>0</td>\n      <td>0</td>\n      <td>0</td>\n      <td>0</td>\n      <td>1</td>\n      <td>0</td>\n      <td>1</td>\n      <td>0</td>\n      <td>0</td>\n      <td>0</td>\n      <td>0</td>\n      <td>0</td>\n      <td>0</td>\n      <td>0</td>\n      <td>0</td>\n      <td>0</td>\n      <td>0</td>\n      <td>0</td>\n      <td>0</td>\n      <td>0</td>\n      <td>0</td>\n      <td>1</td>\n      <td>0</td>\n      <td>0</td>\n      <td>0</td>\n      <td>0</td>\n      <td>0</td>\n      <td>0</td>\n    </tr>\n    <tr>\n      <th>3</th>\n      <td>4</td>\n      <td>az</td>\n      <td>l</td>\n      <td>n</td>\n      <td>f</td>\n      <td>d</td>\n      <td>z</td>\n      <td>l</td>\n      <td>n</td>\n      <td>0</td>\n      <td>0</td>\n      <td>0</td>\n      <td>0</td>\n      <td>0</td>\n      <td>0</td>\n      <td>0</td>\n      <td>0</td>\n      <td>0</td>\n      <td>0</td>\n      <td>0</td>\n      <td>0</td>\n      <td>0</td>\n      <td>0</td>\n      <td>0</td>\n      <td>0</td>\n      <td>1</td>\n      <td>1</td>\n      <td>1</td>\n      <td>0</td>\n      <td>1</td>\n      <td>0</td>\n      <td>0</td>\n      <td>0</td>\n      <td>1</td>\n      <td>0</td>\n      <td>1</td>\n      <td>0</td>\n      <td>0</td>\n      <td>0</td>\n      <td>0</td>\n      <td>...</td>\n      <td>0</td>\n      <td>0</td>\n      <td>0</td>\n      <td>1</td>\n      <td>0</td>\n      <td>1</td>\n      <td>0</td>\n      <td>0</td>\n      <td>0</td>\n      <td>0</td>\n      <td>0</td>\n      <td>0</td>\n      <td>0</td>\n      <td>1</td>\n      <td>0</td>\n      <td>0</td>\n      <td>1</td>\n      <td>0</td>\n      <td>1</td>\n      <td>0</td>\n      <td>0</td>\n      <td>0</td>\n      <td>0</td>\n      <td>0</td>\n      <td>0</td>\n      <td>0</td>\n      <td>0</td>\n      <td>0</td>\n      <td>0</td>\n      <td>0</td>\n      <td>0</td>\n      <td>0</td>\n      <td>0</td>\n      <td>1</td>\n      <td>0</td>\n      <td>0</td>\n      <td>0</td>\n      <td>0</td>\n      <td>0</td>\n      <td>0</td>\n    </tr>\n    <tr>\n      <th>4</th>\n      <td>5</td>\n      <td>w</td>\n      <td>s</td>\n      <td>as</td>\n      <td>c</td>\n      <td>d</td>\n      <td>y</td>\n      <td>i</td>\n      <td>m</td>\n      <td>0</td>\n      <td>0</td>\n      <td>0</td>\n      <td>0</td>\n      <td>1</td>\n      <td>0</td>\n      <td>0</td>\n      <td>0</td>\n      <td>0</td>\n      <td>0</td>\n      <td>0</td>\n      <td>0</td>\n      <td>0</td>\n      <td>0</td>\n      <td>0</td>\n      <td>0</td>\n      <td>1</td>\n      <td>0</td>\n      <td>0</td>\n      <td>0</td>\n      <td>0</td>\n      <td>0</td>\n      <td>0</td>\n      <td>0</td>\n      <td>0</td>\n      <td>0</td>\n      <td>0</td>\n      <td>0</td>\n      <td>0</td>\n      <td>0</td>\n      <td>0</td>\n      <td>...</td>\n      <td>0</td>\n      <td>0</td>\n      <td>0</td>\n      <td>1</td>\n      <td>0</td>\n      <td>1</td>\n      <td>1</td>\n      <td>0</td>\n      <td>0</td>\n      <td>0</td>\n      <td>0</td>\n      <td>0</td>\n      <td>0</td>\n      <td>1</td>\n      <td>0</td>\n      <td>0</td>\n      <td>1</td>\n      <td>0</td>\n      <td>1</td>\n      <td>0</td>\n      <td>0</td>\n      <td>0</td>\n      <td>0</td>\n      <td>0</td>\n      <td>0</td>\n      <td>0</td>\n      <td>0</td>\n      <td>0</td>\n      <td>0</td>\n      <td>0</td>\n      <td>1</td>\n      <td>0</td>\n      <td>0</td>\n      <td>0</td>\n      <td>0</td>\n      <td>0</td>\n      <td>0</td>\n      <td>0</td>\n      <td>0</td>\n      <td>0</td>\n    </tr>\n  </tbody>\n</table>\n</div>"
          },
          "metadata": {}
        }
      ]
    },
    {
      "metadata": {
        "trusted": true,
        "_uuid": "209188258bb56ff94169df120b3ecb774367e610"
      },
      "cell_type": "code",
      "source": "apply_cats(df_raw_test,df_raw)",
      "execution_count": 25,
      "outputs": []
    },
    {
      "metadata": {
        "trusted": true,
        "_uuid": "e2e20910877917ecb32f591b81bf4468ef7d6299"
      },
      "cell_type": "code",
      "source": "df_raw_test['y']=df_raw['y']",
      "execution_count": 26,
      "outputs": []
    },
    {
      "metadata": {
        "trusted": true,
        "_uuid": "7e739046fb14e7a53b027c3ecdc7236a801087ed"
      },
      "cell_type": "code",
      "source": "dftest, ytest, nastest = proc_df(df_raw_test, 'y')",
      "execution_count": 27,
      "outputs": []
    },
    {
      "metadata": {
        "trusted": true,
        "_uuid": "fa3de81eeb7a488a440d3eb8c1bb2710697528c9"
      },
      "cell_type": "code",
      "source": "ypred = m.predict(dftest)",
      "execution_count": 28,
      "outputs": []
    },
    {
      "metadata": {
        "trusted": true,
        "_uuid": "b186ef017991ab27991327406ca28ffc9c3791a1"
      },
      "cell_type": "code",
      "source": "sub = pd.DataFrame()",
      "execution_count": 29,
      "outputs": []
    },
    {
      "metadata": {
        "trusted": true,
        "_uuid": "0ad59172e783d0b73b7a6816b7735957e80375e5"
      },
      "cell_type": "code",
      "source": "sub['ID']=dftest['ID']\nsub['y']=ypred",
      "execution_count": 30,
      "outputs": []
    },
    {
      "metadata": {
        "trusted": true,
        "_uuid": "d7ee02e3da86151a09b96aaad112365531a33f50"
      },
      "cell_type": "code",
      "source": "sub.to_csv('solution1.csv',index=False)",
      "execution_count": 31,
      "outputs": []
    },
    {
      "metadata": {
        "trusted": true,
        "_uuid": "a646bad4cba9ea664016746a42c967fd8187ca4f"
      },
      "cell_type": "code",
      "source": "sub.head()",
      "execution_count": 32,
      "outputs": [
        {
          "output_type": "execute_result",
          "execution_count": 32,
          "data": {
            "text/plain": "   ID           y\n0   1   78.749070\n1   2   94.798175\n2   3   78.144532\n3   4   78.708017\n4   5  115.153716",
            "text/html": "<div>\n<style scoped>\n    .dataframe tbody tr th:only-of-type {\n        vertical-align: middle;\n    }\n\n    .dataframe tbody tr th {\n        vertical-align: top;\n    }\n\n    .dataframe thead th {\n        text-align: right;\n    }\n</style>\n<table border=\"1\" class=\"dataframe\">\n  <thead>\n    <tr style=\"text-align: right;\">\n      <th></th>\n      <th>ID</th>\n      <th>y</th>\n    </tr>\n  </thead>\n  <tbody>\n    <tr>\n      <th>0</th>\n      <td>1</td>\n      <td>78.749070</td>\n    </tr>\n    <tr>\n      <th>1</th>\n      <td>2</td>\n      <td>94.798175</td>\n    </tr>\n    <tr>\n      <th>2</th>\n      <td>3</td>\n      <td>78.144532</td>\n    </tr>\n    <tr>\n      <th>3</th>\n      <td>4</td>\n      <td>78.708017</td>\n    </tr>\n    <tr>\n      <th>4</th>\n      <td>5</td>\n      <td>115.153716</td>\n    </tr>\n  </tbody>\n</table>\n</div>"
          },
          "metadata": {}
        }
      ]
    },
    {
      "metadata": {
        "_uuid": "4194a5f6d3ee274967442af1740dc73b98ecf334"
      },
      "cell_type": "markdown",
      "source": "1. Our Model got coefficient of determination of 0.55162**\n2. Winning Model got coefficient of determination of 0.5555**"
    }
  ],
  "metadata": {
    "kernelspec": {
      "display_name": "Python 3",
      "language": "python",
      "name": "python3"
    },
    "language_info": {
      "name": "python",
      "version": "3.6.6",
      "mimetype": "text/x-python",
      "codemirror_mode": {
        "name": "ipython",
        "version": 3
      },
      "pygments_lexer": "ipython3",
      "nbconvert_exporter": "python",
      "file_extension": ".py"
    }
  },
  "nbformat": 4,
  "nbformat_minor": 1
}